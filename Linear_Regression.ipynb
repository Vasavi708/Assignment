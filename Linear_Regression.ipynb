{
 "cells": [
  {
   "cell_type": "code",
   "execution_count": 1,
   "id": "3421661a",
   "metadata": {},
   "outputs": [],
   "source": [
    "import pandas as pan\n",
    "import numpy as num\n"
   ]
  },
  {
   "cell_type": "code",
   "execution_count": 322,
   "id": "cc5de01d",
   "metadata": {},
   "outputs": [
    {
     "data": {
      "text/plain": [
       "{'x': range(1, 8), 'y': [1.5, 3.8, 6.7, 9.0, 11.2, 13.6, 16.0]}"
      ]
     },
     "execution_count": 322,
     "metadata": {},
     "output_type": "execute_result"
    }
   ],
   "source": [
    "sample = {\"x\":range(1,8),\"y\":[1.5,3.8,6.7,9.0,11.2,13.6,16.0]}\n",
    "sample\n",
    "\n"
   ]
  },
  {
   "cell_type": "code",
   "execution_count": 323,
   "id": "e438ed14",
   "metadata": {},
   "outputs": [
    {
     "data": {
      "text/html": [
       "<div>\n",
       "<style scoped>\n",
       "    .dataframe tbody tr th:only-of-type {\n",
       "        vertical-align: middle;\n",
       "    }\n",
       "\n",
       "    .dataframe tbody tr th {\n",
       "        vertical-align: top;\n",
       "    }\n",
       "\n",
       "    .dataframe thead th {\n",
       "        text-align: right;\n",
       "    }\n",
       "</style>\n",
       "<table border=\"1\" class=\"dataframe\">\n",
       "  <thead>\n",
       "    <tr style=\"text-align: right;\">\n",
       "      <th></th>\n",
       "      <th>x</th>\n",
       "      <th>y</th>\n",
       "    </tr>\n",
       "  </thead>\n",
       "  <tbody>\n",
       "    <tr>\n",
       "      <th>0</th>\n",
       "      <td>1</td>\n",
       "      <td>1.5</td>\n",
       "    </tr>\n",
       "    <tr>\n",
       "      <th>1</th>\n",
       "      <td>2</td>\n",
       "      <td>3.8</td>\n",
       "    </tr>\n",
       "    <tr>\n",
       "      <th>2</th>\n",
       "      <td>3</td>\n",
       "      <td>6.7</td>\n",
       "    </tr>\n",
       "    <tr>\n",
       "      <th>3</th>\n",
       "      <td>4</td>\n",
       "      <td>9.0</td>\n",
       "    </tr>\n",
       "    <tr>\n",
       "      <th>4</th>\n",
       "      <td>5</td>\n",
       "      <td>11.2</td>\n",
       "    </tr>\n",
       "    <tr>\n",
       "      <th>5</th>\n",
       "      <td>6</td>\n",
       "      <td>13.6</td>\n",
       "    </tr>\n",
       "    <tr>\n",
       "      <th>6</th>\n",
       "      <td>7</td>\n",
       "      <td>16.0</td>\n",
       "    </tr>\n",
       "  </tbody>\n",
       "</table>\n",
       "</div>"
      ],
      "text/plain": [
       "   x     y\n",
       "0  1   1.5\n",
       "1  2   3.8\n",
       "2  3   6.7\n",
       "3  4   9.0\n",
       "4  5  11.2\n",
       "5  6  13.6\n",
       "6  7  16.0"
      ]
     },
     "execution_count": 323,
     "metadata": {},
     "output_type": "execute_result"
    }
   ],
   "source": [
    "data = pan.DataFrame(data = sample)\n",
    "data"
   ]
  },
  {
   "cell_type": "code",
   "execution_count": 391,
   "id": "ee00644f",
   "metadata": {},
   "outputs": [
    {
     "name": "stdout",
     "output_type": "stream",
     "text": [
      "numerator_m is:  473.1999999999998\n",
      "denominator_m is:  196\n",
      "m is:  2.4142857142857133\n",
      "numerator_b is:  -5.799999999999962\n",
      "denominator_b is:  7\n",
      "b is:  -0.8285714285714231\n",
      "sse is:  0.16857142857142873\n",
      "mse is:  0.024081632653061246\n",
      "tss is:  163.37428571428572\n",
      "Good\n"
     ]
    }
   ],
   "source": [
    "#Method 1\n",
    "class Linear_Reg:\n",
    "    def __init__(self,data):\n",
    "        data['xy'] = data.x*data.y\n",
    "        data['sqr_x'] = data['x']**2 \n",
    "        self.sum_xy = data['xy'].sum()\n",
    "        self.sum_x = data['x'].sum()\n",
    "        self.sum_y = data['y'].sum()\n",
    "        self.sum_x2 = data['sqr_x'].sum()\n",
    "        self.sumX_h_2 = sum_x ** 2 \n",
    "        self.n = len(data)\n",
    "        self.mean_y = self.sum_y/n\n",
    "    def calculations(self,data):\n",
    "        numerator_m = (self.n*self.sum_xy) - (self.sum_x * self.sum_y)\n",
    "        print(\"numerator_m is: \",numerator_m)\n",
    "        denominator_m = (self.n*self.sum_x2) - self.sumX_h_2\n",
    "        print(\"denominator_m is: \",denominator_m)\n",
    "        m = numerator_m/denominator_m\n",
    "        print(\"m is: \",m)\n",
    "        numerator_b = self.sum_y - (m*self.sum_x) \n",
    "        print(\"numerator_b is: \",numerator_b)\n",
    "        denominator_b = n\n",
    "        print(\"denominator_b is: \",denominator_b)\n",
    "        b = numerator_b/denominator_b\n",
    "        print(\"b is: \",b)\n",
    "        data['y_predict'] = [(m*xi) + b for xi in data['x']]\n",
    "        \n",
    "        sse_ =0\n",
    "        for yorig,ypred in zip(data['y'],data['y_predict']):\n",
    "            sse_ += (yorig-ypred)**2\n",
    "        print(\"sse is: \",sse_) \n",
    "        mse = sse_/n\n",
    "        print(\"mse is: \",mse) \n",
    "        \n",
    "        tss= 0\n",
    "        for yorg in (data['y']):\n",
    "            tss+= (yorg-self.mean_y)**2\n",
    "        print(\"tss is: \",tss)  \n",
    "        \n",
    "        R2score = 1 - ((sse/tss))\n",
    "        if R2score >=0.5:\n",
    "            print (\"Good\")\n",
    "        else:\n",
    "            print(\"Bad\")\n",
    "            \n",
    "            \n",
    "lr = Linear_Reg(data)\n",
    "lr.calculations(data)\n",
    "            "
   ]
  },
  {
   "cell_type": "code",
   "execution_count": 401,
   "id": "74da8431",
   "metadata": {},
   "outputs": [
    {
     "name": "stdout",
     "output_type": "stream",
     "text": [
      "sse is:  0.16857142857142873\n",
      "mse is:  0.024081632653061246\n",
      "tss is:  163.37428571428572\n"
     ]
    },
    {
     "data": {
      "text/plain": [
       "(473.1999999999998,\n",
       " 196,\n",
       " 2.4142857142857133,\n",
       " -5.799999999999962,\n",
       " 7,\n",
       " -0.8285714285714231,\n",
       " 0.16857142857142873,\n",
       " 0.024081632653061246,\n",
       " 163.37428571428572,\n",
       " 0.99896818873402,\n",
       " ['Good'])"
      ]
     },
     "execution_count": 401,
     "metadata": {},
     "output_type": "execute_result"
    }
   ],
   "source": [
    "#Method2\n",
    "class Linear_Reg:\n",
    "    def __init__(self,data):\n",
    "        data['xy'] = data.x*data.y\n",
    "        data['sqr_x'] = data['x']**2 \n",
    "        self.sum_xy = data['xy'].sum()\n",
    "        self.sum_x = data['x'].sum()\n",
    "        self.sum_y = data['y'].sum()\n",
    "        self.sum_x2 = data['sqr_x'].sum()\n",
    "        self.sumX_h_2 = sum_x ** 2 \n",
    "        self.n = len(data)\n",
    "        self.mean_y = self.sum_y/n\n",
    "    def calculations(self,data):\n",
    "        numerator_m = (self.n*self.sum_xy) - (self.sum_x * self.sum_y)\n",
    "        #print(\"numerator_m is: \",numerator_m)\n",
    "        denominator_m = (self.n*self.sum_x2) - self.sumX_h_2\n",
    "        #print(\"denominator_m is: \",denominator_m)\n",
    "        m = numerator_m/denominator_m\n",
    "        #print(\"m is: \",m)\n",
    "        numerator_b = self.sum_y - (m*self.sum_x) \n",
    "        #print(\"numerator_b is: \",numerator_b)\n",
    "        denominator_b = n\n",
    "        #print(\"denominator_b is: \",denominator_b)\n",
    "        b = numerator_b/denominator_b\n",
    "        #print(\"b is: \",b)\n",
    "        data['y_predict'] = [(m*xi) + b for xi in data['x']]\n",
    "        \n",
    "        \n",
    "        sse_ =0\n",
    "        for yorig,ypred in zip(data['y'],data['y_predict']):\n",
    "            sse_ += (yorig-ypred)**2\n",
    "        print(\"sse is: \",sse_) \n",
    "        mse = sse_/n\n",
    "        print(\"mse is: \",mse) \n",
    "        \n",
    "        tss= 0\n",
    "        for yorg in (data['y']):\n",
    "            tss+= (yorg-self.mean_y)**2\n",
    "        print(\"tss is: \",tss) \n",
    "        R2score = 1 - ((sse/tss))\n",
    "        test = [\"Good\" if R2score >=0.7 else \"Bad\"]\n",
    "        return numerator_m,denominator_m,m ,numerator_b,denominator_b,b,sse_,mse,tss,R2score,test\n",
    "            \n",
    "lr = Linear_Reg(data)\n",
    "lr.calculations(data)"
   ]
  },
  {
   "cell_type": "code",
   "execution_count": 400,
   "id": "071c2b8c",
   "metadata": {},
   "outputs": [
    {
     "name": "stdout",
     "output_type": "stream",
     "text": [
      "m value is:  2.4142857142857133\n",
      "b value is:  -0.8285714285714231\n",
      "sse is:  0.16857142857142873\n",
      "mse is:  0.024081632653061246\n",
      "tss is:  163.37428571428572\n",
      "R2score is:  0.99896818873402\n",
      "Good\n"
     ]
    }
   ],
   "source": [
    "#Method3\n",
    "class Linear_Reg:\n",
    "    def __init__(self,data):\n",
    "        data['xy'] = data.x*data.y\n",
    "        data['sqr_x'] = data['x']**2 \n",
    "        self.sum_xy = data['xy'].sum()\n",
    "        self.sum_x = data['x'].sum()\n",
    "        self.sum_y = data['y'].sum()\n",
    "        self.sum_x2 = data['sqr_x'].sum()\n",
    "        self.sumX_h_2 = sum_x ** 2 \n",
    "        self.n = len(data)\n",
    "        self.mean_y = self.sum_y/n\n",
    "    def m_value(self,data):\n",
    "        numerator_m = (self.n*self.sum_xy) - (self.sum_x * self.sum_y)\n",
    "        denominator_m = (self.n*self.sum_x2) - self.sumX_h_2\n",
    "        m = numerator_m/denominator_m\n",
    "        return m\n",
    "    def b_value(self,data):\n",
    "        numerator_b = self.sum_y - (m*self.sum_x) \n",
    "        denominator_b = n\n",
    "        b = numerator_b/denominator_b\n",
    "        return b\n",
    "    def y_prediction(self,data):\n",
    "        data['y_predict'] = [(m*xi) + b for xi in data['x']]\n",
    "    def errors(self,data):    \n",
    "        sse_ =0\n",
    "        for yorig,ypred in zip(data['y'],data['y_predict']):\n",
    "            sse_ += (yorig-ypred)**2\n",
    "        print(\"sse is: \",sse_) \n",
    "        mse = sse_/n\n",
    "        print(\"mse is: \",mse) \n",
    "        \n",
    "        tss= 0\n",
    "        for yorg in (data['y']):\n",
    "            tss+= (yorg-self.mean_y)**2\n",
    "        print(\"tss is: \",tss)  \n",
    "        \n",
    "        R2score = 1 - ((sse/tss))\n",
    "        print(\"R2score is: \",R2score)\n",
    "        if R2score >=0.7:\n",
    "            print (\"Good\")\n",
    "        else:\n",
    "            print(\"Bad\") \n",
    "        \n",
    "lr = Linear_Reg(data)\n",
    "m = lr.m_value(data)\n",
    "print(\"m value is: \",m)\n",
    "b = lr.b_value(data)\n",
    "print(\"b value is: \",b)\n",
    "lr.errors(data)\n"
   ]
  },
  {
   "cell_type": "code",
   "execution_count": 356,
   "id": "add040e4",
   "metadata": {},
   "outputs": [
    {
     "data": {
      "text/html": [
       "<div>\n",
       "<style scoped>\n",
       "    .dataframe tbody tr th:only-of-type {\n",
       "        vertical-align: middle;\n",
       "    }\n",
       "\n",
       "    .dataframe tbody tr th {\n",
       "        vertical-align: top;\n",
       "    }\n",
       "\n",
       "    .dataframe thead th {\n",
       "        text-align: right;\n",
       "    }\n",
       "</style>\n",
       "<table border=\"1\" class=\"dataframe\">\n",
       "  <thead>\n",
       "    <tr style=\"text-align: right;\">\n",
       "      <th></th>\n",
       "      <th>x</th>\n",
       "      <th>y</th>\n",
       "      <th>xy</th>\n",
       "      <th>sqr_x</th>\n",
       "      <th>y_predict</th>\n",
       "    </tr>\n",
       "  </thead>\n",
       "  <tbody>\n",
       "    <tr>\n",
       "      <th>0</th>\n",
       "      <td>1</td>\n",
       "      <td>1.5</td>\n",
       "      <td>1.5</td>\n",
       "      <td>1</td>\n",
       "      <td>1.585714</td>\n",
       "    </tr>\n",
       "    <tr>\n",
       "      <th>1</th>\n",
       "      <td>2</td>\n",
       "      <td>3.8</td>\n",
       "      <td>7.6</td>\n",
       "      <td>4</td>\n",
       "      <td>4.000000</td>\n",
       "    </tr>\n",
       "    <tr>\n",
       "      <th>2</th>\n",
       "      <td>3</td>\n",
       "      <td>6.7</td>\n",
       "      <td>20.1</td>\n",
       "      <td>9</td>\n",
       "      <td>6.414286</td>\n",
       "    </tr>\n",
       "    <tr>\n",
       "      <th>3</th>\n",
       "      <td>4</td>\n",
       "      <td>9.0</td>\n",
       "      <td>36.0</td>\n",
       "      <td>16</td>\n",
       "      <td>8.828571</td>\n",
       "    </tr>\n",
       "    <tr>\n",
       "      <th>4</th>\n",
       "      <td>5</td>\n",
       "      <td>11.2</td>\n",
       "      <td>56.0</td>\n",
       "      <td>25</td>\n",
       "      <td>11.242857</td>\n",
       "    </tr>\n",
       "    <tr>\n",
       "      <th>5</th>\n",
       "      <td>6</td>\n",
       "      <td>13.6</td>\n",
       "      <td>81.6</td>\n",
       "      <td>36</td>\n",
       "      <td>13.657143</td>\n",
       "    </tr>\n",
       "    <tr>\n",
       "      <th>6</th>\n",
       "      <td>7</td>\n",
       "      <td>16.0</td>\n",
       "      <td>112.0</td>\n",
       "      <td>49</td>\n",
       "      <td>16.071429</td>\n",
       "    </tr>\n",
       "  </tbody>\n",
       "</table>\n",
       "</div>"
      ],
      "text/plain": [
       "   x     y     xy  sqr_x  y_predict\n",
       "0  1   1.5    1.5      1   1.585714\n",
       "1  2   3.8    7.6      4   4.000000\n",
       "2  3   6.7   20.1      9   6.414286\n",
       "3  4   9.0   36.0     16   8.828571\n",
       "4  5  11.2   56.0     25  11.242857\n",
       "5  6  13.6   81.6     36  13.657143\n",
       "6  7  16.0  112.0     49  16.071429"
      ]
     },
     "execution_count": 356,
     "metadata": {},
     "output_type": "execute_result"
    }
   ],
   "source": [
    "data  "
   ]
  },
  {
   "cell_type": "code",
   "execution_count": 358,
   "id": "b6f2d128",
   "metadata": {},
   "outputs": [],
   "source": [
    "from matplotlib import pyplot as pp\n",
    "import numpy as num"
   ]
  },
  {
   "cell_type": "code",
   "execution_count": 402,
   "id": "843c2b97",
   "metadata": {},
   "outputs": [
    {
     "data": {
      "image/png": "[encoded data removed]",
      "text/plain": [
       "<Figure size 432x288 with 1 Axes>"
      ]
     },
     "metadata": {
      "needs_background": "light"
     },
     "output_type": "display_data"
    }
   ],
   "source": [
    "pp.plot(data['x'],data['y'],color = 'red',label = 'y_original', marker = 'o',mfc='b',linestyle='dotted',ms = 10)\n",
    "pp.plot(data['x'],data['y_predict'], color = 'green',label = 'y_predict',marker = 's',linestyle = 'dashed',mfc='y')\n",
    "pp.title('Linear Regression')\n",
    "pp.ylabel('original vs predicted')\n",
    "pp.xlabel('x_values')\n",
    "pp.legend()\n",
    "pp.grid()\n",
    "pp.show()"
   ]
  },
  {
   "cell_type": "code",
   "execution_count": null,
   "id": "28d554aa",
   "metadata": {},
   "outputs": [],
   "source": []
  }
 ],
 "metadata": {
  "kernelspec": {
   "display_name": "Python 3 (ipykernel)",
   "language": "python",
   "name": "python3"
  },
  "language_info": {
   "codemirror_mode": {
    "name": "ipython",
    "version": 3
   },
   "file_extension": ".py",
   "mimetype": "text/x-python",
   "name": "python",
   "nbconvert_exporter": "python",
   "pygments_lexer": "ipython3",
   "version": "3.9.7"
  }
 },
 "nbformat": 4,
 "nbformat_minor": 5
}
