{
 "cells": [
  {
   "cell_type": "code",
   "execution_count": 65,
   "id": "0d1021d4",
   "metadata": {},
   "outputs": [],
   "source": [
    "import pandas as pan\n",
    "import numpy as num"
   ]
  },
  {
   "cell_type": "code",
   "execution_count": 187,
   "id": "857e5938",
   "metadata": {},
   "outputs": [
    {
     "data": {
      "text/plain": [
       "{'x': [0.1, 0.2, 0.3, 0.4, 0.6, 0.7, 0.8, 0.9], 'y': [0, 0, 0, 0, 1, 1, 1, 1]}"
      ]
     },
     "execution_count": 187,
     "metadata": {},
     "output_type": "execute_result"
    }
   ],
   "source": [
    "sample = {\n",
    "    \"x\" : [0.1, 0.2, 0.3, 0.4, 0.6, 0.7, 0.8, 0.9],\n",
    "    \"y\" : [0, 0, 0, 0, 1, 1, 1, 1]\n",
    "}\n",
    "sample"
   ]
  },
  {
   "cell_type": "code",
   "execution_count": 188,
   "id": "d7985fcc",
   "metadata": {},
   "outputs": [
    {
     "data": {
      "text/html": [
       "<div>\n",
       "<style scoped>\n",
       "    .dataframe tbody tr th:only-of-type {\n",
       "        vertical-align: middle;\n",
       "    }\n",
       "\n",
       "    .dataframe tbody tr th {\n",
       "        vertical-align: top;\n",
       "    }\n",
       "\n",
       "    .dataframe thead th {\n",
       "        text-align: right;\n",
       "    }\n",
       "</style>\n",
       "<table border=\"1\" class=\"dataframe\">\n",
       "  <thead>\n",
       "    <tr style=\"text-align: right;\">\n",
       "      <th></th>\n",
       "      <th>x</th>\n",
       "      <th>y</th>\n",
       "    </tr>\n",
       "  </thead>\n",
       "  <tbody>\n",
       "    <tr>\n",
       "      <th>0</th>\n",
       "      <td>0.1</td>\n",
       "      <td>0</td>\n",
       "    </tr>\n",
       "    <tr>\n",
       "      <th>1</th>\n",
       "      <td>0.2</td>\n",
       "      <td>0</td>\n",
       "    </tr>\n",
       "    <tr>\n",
       "      <th>2</th>\n",
       "      <td>0.3</td>\n",
       "      <td>0</td>\n",
       "    </tr>\n",
       "    <tr>\n",
       "      <th>3</th>\n",
       "      <td>0.4</td>\n",
       "      <td>0</td>\n",
       "    </tr>\n",
       "    <tr>\n",
       "      <th>4</th>\n",
       "      <td>0.6</td>\n",
       "      <td>1</td>\n",
       "    </tr>\n",
       "    <tr>\n",
       "      <th>5</th>\n",
       "      <td>0.7</td>\n",
       "      <td>1</td>\n",
       "    </tr>\n",
       "    <tr>\n",
       "      <th>6</th>\n",
       "      <td>0.8</td>\n",
       "      <td>1</td>\n",
       "    </tr>\n",
       "    <tr>\n",
       "      <th>7</th>\n",
       "      <td>0.9</td>\n",
       "      <td>1</td>\n",
       "    </tr>\n",
       "  </tbody>\n",
       "</table>\n",
       "</div>"
      ],
      "text/plain": [
       "     x  y\n",
       "0  0.1  0\n",
       "1  0.2  0\n",
       "2  0.3  0\n",
       "3  0.4  0\n",
       "4  0.6  1\n",
       "5  0.7  1\n",
       "6  0.8  1\n",
       "7  0.9  1"
      ]
     },
     "execution_count": 188,
     "metadata": {},
     "output_type": "execute_result"
    }
   ],
   "source": [
    "data = pan.DataFrame(data = sample)\n",
    "data"
   ]
  },
  {
   "cell_type": "code",
   "execution_count": 201,
   "id": "399246ff",
   "metadata": {},
   "outputs": [
    {
     "ename": "TypeError",
     "evalue": "'function' object is not iterable",
     "output_type": "error",
     "traceback": [
      "\u001b[0;31m---------------------------------------------------------------------------\u001b[0m",
      "\u001b[0;31mTypeError\u001b[0m                                 Traceback (most recent call last)",
      "\u001b[0;32m/var/folders/61/p48r83fx22ndvcn_bx897rcr0000gn/T/ipykernel_1538/2422922253.py\u001b[0m in \u001b[0;36m<module>\u001b[0;34m\u001b[0m\n\u001b[0;32m----> 1\u001b[0;31m \u001b[0;32mclass\u001b[0m \u001b[0mLinear_Reg\u001b[0m\u001b[0;34m:\u001b[0m\u001b[0;34m\u001b[0m\u001b[0;34m\u001b[0m\u001b[0m\n\u001b[0m\u001b[1;32m      2\u001b[0m     \u001b[0;32mdef\u001b[0m \u001b[0m__init__\u001b[0m\u001b[0;34m(\u001b[0m\u001b[0mself\u001b[0m\u001b[0;34m,\u001b[0m\u001b[0mdata\u001b[0m\u001b[0;34m)\u001b[0m\u001b[0;34m:\u001b[0m\u001b[0;34m\u001b[0m\u001b[0;34m\u001b[0m\u001b[0m\n\u001b[1;32m      3\u001b[0m         \u001b[0mdata\u001b[0m\u001b[0;34m[\u001b[0m\u001b[0;34m'xy'\u001b[0m\u001b[0;34m]\u001b[0m \u001b[0;34m=\u001b[0m \u001b[0mdata\u001b[0m\u001b[0;34m.\u001b[0m\u001b[0mx\u001b[0m\u001b[0;34m*\u001b[0m\u001b[0mdata\u001b[0m\u001b[0;34m.\u001b[0m\u001b[0my\u001b[0m\u001b[0;34m\u001b[0m\u001b[0;34m\u001b[0m\u001b[0m\n\u001b[1;32m      4\u001b[0m         \u001b[0mdata\u001b[0m\u001b[0;34m[\u001b[0m\u001b[0;34m'sqr_x'\u001b[0m\u001b[0;34m]\u001b[0m \u001b[0;34m=\u001b[0m \u001b[0mdata\u001b[0m\u001b[0;34m[\u001b[0m\u001b[0;34m'x'\u001b[0m\u001b[0;34m]\u001b[0m\u001b[0;34m**\u001b[0m\u001b[0;36m2\u001b[0m\u001b[0;34m\u001b[0m\u001b[0;34m\u001b[0m\u001b[0m\n\u001b[1;32m      5\u001b[0m         \u001b[0mself\u001b[0m\u001b[0;34m.\u001b[0m\u001b[0msum_xy\u001b[0m \u001b[0;34m=\u001b[0m \u001b[0mdata\u001b[0m\u001b[0;34m[\u001b[0m\u001b[0;34m'xy'\u001b[0m\u001b[0;34m]\u001b[0m\u001b[0;34m.\u001b[0m\u001b[0msum\u001b[0m\u001b[0;34m(\u001b[0m\u001b[0;34m)\u001b[0m\u001b[0;34m\u001b[0m\u001b[0;34m\u001b[0m\u001b[0m\n",
      "\u001b[0;32m/var/folders/61/p48r83fx22ndvcn_bx897rcr0000gn/T/ipykernel_1538/2422922253.py\u001b[0m in \u001b[0;36mLinear_Reg\u001b[0;34m()\u001b[0m\n\u001b[1;32m     53\u001b[0m         \u001b[0;32mreturn\u001b[0m \u001b[0;34m[\u001b[0m\u001b[0;34m(\u001b[0m\u001b[0;36m1\u001b[0m\u001b[0;34m/\u001b[0m\u001b[0;34m(\u001b[0m\u001b[0;36m1\u001b[0m\u001b[0;34m+\u001b[0m\u001b[0mnum\u001b[0m\u001b[0;34m.\u001b[0m\u001b[0mexp\u001b[0m\u001b[0;34m(\u001b[0m\u001b[0;34m-\u001b[0m\u001b[0mxcap\u001b[0m\u001b[0;34m)\u001b[0m\u001b[0;34m)\u001b[0m\u001b[0;34m)\u001b[0m \u001b[0;32mfor\u001b[0m \u001b[0mxcap\u001b[0m \u001b[0;32min\u001b[0m \u001b[0mx_cap\u001b[0m\u001b[0;34m]\u001b[0m\u001b[0;34m\u001b[0m\u001b[0;34m\u001b[0m\u001b[0m\n\u001b[1;32m     54\u001b[0m \u001b[0;34m\u001b[0m\u001b[0m\n\u001b[0;32m---> 55\u001b[0;31m     \u001b[0mypred\u001b[0m \u001b[0;34m=\u001b[0m \u001b[0msigmoid\u001b[0m\u001b[0;34m(\u001b[0m\u001b[0mx_cap\u001b[0m\u001b[0;34m)\u001b[0m\u001b[0;34m\u001b[0m\u001b[0;34m\u001b[0m\u001b[0m\n\u001b[0m\u001b[1;32m     56\u001b[0m     \u001b[0mprint\u001b[0m\u001b[0;34m(\u001b[0m\u001b[0;34m\"sigmoid values: \"\u001b[0m\u001b[0;34m,\u001b[0m\u001b[0mypred\u001b[0m\u001b[0;34m)\u001b[0m\u001b[0;34m\u001b[0m\u001b[0;34m\u001b[0m\u001b[0m\n\u001b[1;32m     57\u001b[0m \u001b[0;34m\u001b[0m\u001b[0m\n",
      "\u001b[0;32m/var/folders/61/p48r83fx22ndvcn_bx897rcr0000gn/T/ipykernel_1538/2422922253.py\u001b[0m in \u001b[0;36msigmoid\u001b[0;34m(x_cap)\u001b[0m\n\u001b[1;32m     51\u001b[0m \u001b[0;34m\u001b[0m\u001b[0m\n\u001b[1;32m     52\u001b[0m     \u001b[0;32mdef\u001b[0m \u001b[0msigmoid\u001b[0m\u001b[0;34m(\u001b[0m\u001b[0mx_cap\u001b[0m\u001b[0;34m)\u001b[0m\u001b[0;34m:\u001b[0m\u001b[0;34m\u001b[0m\u001b[0;34m\u001b[0m\u001b[0m\n\u001b[0;32m---> 53\u001b[0;31m         \u001b[0;32mreturn\u001b[0m \u001b[0;34m[\u001b[0m\u001b[0;34m(\u001b[0m\u001b[0;36m1\u001b[0m\u001b[0;34m/\u001b[0m\u001b[0;34m(\u001b[0m\u001b[0;36m1\u001b[0m\u001b[0;34m+\u001b[0m\u001b[0mnum\u001b[0m\u001b[0;34m.\u001b[0m\u001b[0mexp\u001b[0m\u001b[0;34m(\u001b[0m\u001b[0;34m-\u001b[0m\u001b[0mxcap\u001b[0m\u001b[0;34m)\u001b[0m\u001b[0;34m)\u001b[0m\u001b[0;34m)\u001b[0m \u001b[0;32mfor\u001b[0m \u001b[0mxcap\u001b[0m \u001b[0;32min\u001b[0m \u001b[0mx_cap\u001b[0m\u001b[0;34m]\u001b[0m\u001b[0;34m\u001b[0m\u001b[0;34m\u001b[0m\u001b[0m\n\u001b[0m\u001b[1;32m     54\u001b[0m \u001b[0;34m\u001b[0m\u001b[0m\n\u001b[1;32m     55\u001b[0m     \u001b[0mypred\u001b[0m \u001b[0;34m=\u001b[0m \u001b[0msigmoid\u001b[0m\u001b[0;34m(\u001b[0m\u001b[0mx_cap\u001b[0m\u001b[0;34m)\u001b[0m\u001b[0;34m\u001b[0m\u001b[0;34m\u001b[0m\u001b[0m\n",
      "\u001b[0;31mTypeError\u001b[0m: 'function' object is not iterable"
     ]
    }
   ],
   "source": [
    "class Linear_Reg:\n",
    "    def __init__(self,data):\n",
    "        data['xy'] = data.x*data.y\n",
    "        data['sqr_x'] = data['x']**2\n",
    "        self.sum_xy = data['xy'].sum()\n",
    "        self.sum_x = data['x'].sum()\n",
    "        self.sum_y = data['y'].sum()\n",
    "        self.sum_x2 = data['sqr_x'].sum()\n",
    "        self.sumX_h_2 = self.sum_x ** 2 \n",
    "        self.n = len(data)\n",
    "        self.mean_y = self.sum_y/self.n\n",
    "\n",
    "    def m_value(self,data):\n",
    "        numerator_m = (self.n*self.sum_xy) - (self.sum_x * self.sum_y)\n",
    "        denominator_m = (self.n*self.sum_x2) - self.sumX_h_2\n",
    "        m = numerator_m/denominator_m\n",
    "        return m\n",
    "    def b_value(self,data):\n",
    "        numerator_b = self.sum_y - (m*self.sum_x) \n",
    "        denominator_b = self.n\n",
    "        b = numerator_b/denominator_b\n",
    "        return b\n",
    "        '''def y_prediction(self,data,m,b):\n",
    "        data['y_predict'] = [(m*xi) + b for xi in data['x']]\n",
    "    def errors(self,data):    \n",
    "        sse_ =0\n",
    "        for y_orig,y_pred in zip(data['y'],data['y_predict']):\n",
    "            sse_ += (y_orig-y_pred)**2\n",
    "        print(\"sse is: \",sse_) \n",
    "        mse = sse_/self.n\n",
    "        print(\"mse is: \",mse) \n",
    "        \n",
    "        tss= 0\n",
    "        for y_org in (data['y']):\n",
    "            tss+= (y_org-self.mean_y)**2\n",
    "        print(\"tss is: \",tss)  \n",
    "        \n",
    "        R2score = 1 - ((sse_/tss))\n",
    "        print(\"R2score is: \",R2score)\n",
    "        if R2score >=0.7:\n",
    "            print (\"Good\")\n",
    "        else:\n",
    "            print(\"Bad\") '''\n",
    "\n",
    "            \n",
    "    #Logistic Regression \n",
    "    \n",
    "    def x_cap(self,data,m,b):\n",
    "        x_cap = [(m*xi)+b for xi in data['x']]\n",
    "        return x_cap\n",
    "        \n",
    "    def sigmoid(x_cap):\n",
    "        return [(1/(1+num.exp(-xcap))) for xcap in x_cap]\n",
    "    \n",
    "    ypred = sigmoid(x_cap)\n",
    "    print(\"sigmoid values: \",ypred)\n",
    "        \n",
    "    def final(ypred):\n",
    "        re = [1 if value>=0.5 else 0 for value in ypred]\n",
    "        return re\n",
    "        \n",
    "    ypred = final(ypred)\n",
    "    print(\"ypred values: \",ypred)\n",
    "    \n",
    "    ytrue = data.y.values\n",
    "    print(\"ytrue values: \",ytrue)\n",
    "        \n",
    "    def accuracy(self,ypred,ytrue):\n",
    "        count = 0\n",
    "        for y_t,y_p in zip(ytrue,ypred):\n",
    "            if y_t == y_p:\n",
    "                count+=1\n",
    "        acc = count/len(ytrue) \n",
    "        return acc\n",
    "\n",
    "        \n",
    "    #def confusion_metrics(self,data):\n",
    "        \n",
    "\n",
    "    \n",
    "lr= Linear_Reg(data)\n",
    "m = lr.m_value(data)\n",
    "print(\"m value is: \",m)\n",
    "b = lr.b_value(data)\n",
    "#lr.y_prediction(data,m,b)\n",
    "lr.x_cap(data,m,b)\n",
    "print(\"b value is: \",b)\n",
    "#lr.errors(data)\n",
    "#lr.sigmoid(data)\n",
    "#lr.final(data,ypred)\n",
    "lr.accuracy(ypred,ytrue)\n",
    "\n",
    "\n",
    "        \n"
   ]
  },
  {
   "cell_type": "code",
   "execution_count": null,
   "id": "5780e227",
   "metadata": {},
   "outputs": [],
   "source": [
    "from sklearn.metrics import classification_report\n",
    "print(classification_report(ytrue,ypred))"
   ]
  }
 ],
 "metadata": {
  "kernelspec": {
   "display_name": "Python 3 (ipykernel)",
   "language": "python",
   "name": "python3"
  },
  "language_info": {
   "codemirror_mode": {
    "name": "ipython",
    "version": 3
   },
   "file_extension": ".py",
   "mimetype": "text/x-python",
   "name": "python",
   "nbconvert_exporter": "python",
   "pygments_lexer": "ipython3",
   "version": "3.9.7"
  }
 },
 "nbformat": 4,
 "nbformat_minor": 5
}
